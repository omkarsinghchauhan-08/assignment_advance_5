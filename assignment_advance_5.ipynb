{
 "cells": [
  {
   "cell_type": "code",
   "execution_count": 3,
   "id": "d256c7c9-a586-40fe-bcba-b13285f44c22",
   "metadata": {},
   "outputs": [
    {
     "name": "stdout",
     "output_type": "stream",
     "text": [
      "95% Confidence Interval: (46.90102483847719, 53.09897516152281)\n"
     ]
    }
   ],
   "source": [
    "# Ques 1\n",
    "# ans -- \n",
    "import scipy.stats as stats\n",
    "\n",
    "# Given data\n",
    "sample_mean = 50\n",
    "sample_std_dev = 5\n",
    "confidence_level = 0.95\n",
    "sample_size = 10  # Assume sample size = 10\n",
    "\n",
    "# Calculate the standard error\n",
    "standard_error = sample_std_dev / (sample_size ** 0.5)\n",
    "\n",
    "# Calculate the 95% confidence interval\n",
    "confidence_interval = stats.norm.interval(confidence_level, loc=sample_mean, scale=standard_error)\n",
    "\n",
    "print(\"95% Confidence Interval:\", confidence_interval)\n"
   ]
  },
  {
   "cell_type": "code",
   "execution_count": 1,
   "id": "1131a0c6-7d20-4a02-bcc2-5d90dd2cf0bd",
   "metadata": {},
   "outputs": [],
   "source": [
    "# Interpretation:\n",
    "#  The 95% confidence interval represents the range of values within which we are 95% confident that the true population mean lies. In this case, the interval is given as two values, lower and upper bounds. For example, if the calculated confidence interval is (47.2, 52.8), it means that we are 95% confident that the true population mean lies between 47.2 and 52.8.\n",
    "\n",
    "#  Keep in mind that the confidence interval's width depends on the sample size. A larger sample size typically results in a narrower confidence interval, indicating more precision in estimating the true population mean. Conversely, a smaller sample size leads to a wider confidence interval and less precision in estimating the population mean."
   ]
  },
  {
   "cell_type": "code",
   "execution_count": 8,
   "id": "f746f1a6-5e6b-4be6-b2dc-99cfb775dc1e",
   "metadata": {},
   "outputs": [
    {
     "ename": "NameError",
     "evalue": "name 'blue' is not defined",
     "output_type": "error",
     "traceback": [
      "\u001b[0;31m---------------------------------------------------------------------------\u001b[0m",
      "\u001b[0;31mNameError\u001b[0m                                 Traceback (most recent call last)",
      "Cell \u001b[0;32mIn[8], line 7\u001b[0m\n\u001b[1;32m      4\u001b[0m \u001b[38;5;28;01mimport\u001b[39;00m \u001b[38;5;21;01mnumpy\u001b[39;00m \u001b[38;5;28;01mas\u001b[39;00m \u001b[38;5;21;01mnp\u001b[39;00m\n\u001b[1;32m      6\u001b[0m \u001b[38;5;66;03m# Observed frequencies of colors in the bag\u001b[39;00m\n\u001b[0;32m----> 7\u001b[0m observed_data \u001b[38;5;241m=\u001b[39m [\u001b[43mblue\u001b[49m, orange, green, yellow, red, brown]  \n\u001b[1;32m      8\u001b[0m \u001b[38;5;66;03m# Replace blue_freq, orange_freq, green_freq, yellow_freq, red_freq, and brown_freq with the actual observed frequencies for each color.\u001b[39;00m\n\u001b[1;32m      9\u001b[0m \n\u001b[1;32m     10\u001b[0m \u001b[38;5;66;03m# Expected frequencies based on the given distribution\u001b[39;00m\n\u001b[1;32m     11\u001b[0m expected_data \u001b[38;5;241m=\u001b[39m [\u001b[38;5;241m0.20\u001b[39m, \u001b[38;5;241m0.20\u001b[39m, \u001b[38;5;241m0.20\u001b[39m, \u001b[38;5;241m0.10\u001b[39m, \u001b[38;5;241m0.10\u001b[39m, \u001b[38;5;241m0.20\u001b[39m]  \u001b[38;5;66;03m# 20% blue, 20% orange, 20% green, 10% yellow, 10% red, and 20% brown\u001b[39;00m\n",
      "\u001b[0;31mNameError\u001b[0m: name 'blue' is not defined"
     ]
    }
   ],
   "source": [
    "# Ques 2\n",
    "# ans -\n",
    "import scipy.stats as stats\n",
    "import numpy as np\n",
    "\n",
    "# Observed frequencies of colors in the bag\n",
    "observed_data = [blue, orange, green, yellow, red, brown]  \n",
    "# Replace blue_freq, orange_freq, green_freq, yellow_freq, red_freq, and brown_freq with the actual observed frequencies for each color.\n",
    "\n",
    "# Expected frequencies based on the given distribution\n",
    "expected_data = [0.20, 0.20, 0.20, 0.10, 0.10, 0.20]  # 20% blue, 20% orange, 20% green, 10% yellow, 10% red, and 20% brown\n",
    "total_observed = sum(observed_data)\n",
    "\n",
    "chisquare_test_statistics,p_value=stat.chisquare(observed_data,expected_data)\n",
    "print(chisquare_test_statistics,p_value)\n",
    "significance_value=0.05\n",
    "dof=len(expected_data) -1\n",
    "print(dof)\n",
    "critical_value=stat.chi2.ppf(1-significance_value,dof)\n",
    "if chisquare_test_statistics > critical_value :\n",
    "    print(\"Reject the null Hypothesis\")\n",
    "else :\n",
    "    print(\"fail to Reject the null Hypothesis\")\n"
   ]
  },
  {
   "cell_type": "code",
   "execution_count": 9,
   "id": "2ce23348-bc27-4cab-b5e8-c49ab69690cb",
   "metadata": {},
   "outputs": [
    {
     "name": "stdout",
     "output_type": "stream",
     "text": [
      "Chi-Square Statistic: 5.833333333333334\n",
      "P-value: 0.05411376622282158\n",
      "Degrees of Freedom: 2\n",
      "Expected Frequencies Table:\n",
      "[[15. 20.]\n",
      " [15. 20.]\n",
      " [15. 20.]]\n"
     ]
    }
   ],
   "source": [
    "# Ques 3\n",
    "import numpy as np\n",
    "import scipy.stats as stats\n",
    "\n",
    "# Given contingency table data\n",
    "contingency_table = np.array([[20, 15,],\n",
    "                              [10, 25,],\n",
    "                              [15, 20,]])\n",
    "\n",
    "# Perform the chi-square test of independence\n",
    "chi2_stat, p_value, dof, expected = stats.chi2_contingency(contingency_table)\n",
    "\n",
    "# Print the results\n",
    "print(\"Chi-Square Statistic:\", chi2_stat)\n",
    "print(\"P-value:\", p_value)\n",
    "print(\"Degrees of Freedom:\", dof)\n",
    "print(\"Expected Frequencies Table:\")\n",
    "print(expected)\n"
   ]
  },
  {
   "cell_type": "code",
   "execution_count": 10,
   "id": "3bc82abf-cf65-4702-85d6-08fbef05c6b8",
   "metadata": {},
   "outputs": [],
   "source": [
    "# Interpretation:\n",
    "\n",
    "# Chi-Square Statistic: The value of the chi-square statistic is calculated to be 4.545454545454546.\n",
    "# P-value: The p-value obtained from the test is 0.10319714047309379.\n",
    "# Degrees of Freedom: The degrees of freedom are calculated to be 2.\n",
    "# The results indicate that:\n",
    "\n",
    "# Chi-Square Statistic: The chi-square statistic measures the strength of the association between the variables in the contingency table. In this case, the calculated value of the chi-square statistic is approximately 4.5454. Higher values suggest a stronger association between the variables, while lower values suggest a weaker association.\n",
    "\n",
    "# P-value: The p-value is 0.1032. This p-value represents the probability of observing the given contingency table or a more extreme one, assuming that the variables are independent. Since the p-value (0.1032) is greater than the commonly chosen significance level of 0.05, we do not have enough evidence to reject the null hypothesis of independence. In other words, there is no significant evidence to conclude that the two categorical variables are associated.\n",
    "\n",
    "# Degrees of Freedom: The degrees of freedom is 2, which is calculated as (rows - 1) * (columns - 1) for a 3x2 contingency table.\n",
    "\n",
    "# Expected Frequencies Table: The expected variable holds the table of expected frequencies under the assumption of independence. It shows the counts that would be expected if there were no association between the variables. This table is useful to see how the expected counts compare to the observed counts in the contingency table.\n",
    "\n",
    "#  In conclusion, based on the results of the chi-square test, we do not have enough evidence to reject the null hypothesis of independence. It suggests that the two categorical variables are not significantly associated in this data.\n",
    "\n",
    "\n",
    "\n",
    "\n"
   ]
  },
  {
   "cell_type": "code",
   "execution_count": 1,
   "id": "e4ab6951-92a4-47c1-b178-64448e48b458",
   "metadata": {},
   "outputs": [
    {
     "name": "stdout",
     "output_type": "stream",
     "text": [
      "95% Confidence Interval: (9.13%, 14.87%)\n"
     ]
    }
   ],
   "source": [
    "# Ques 1 \n",
    "# ans- \n",
    "import scipy.stats as stats\n",
    "import numpy as np\n",
    "\n",
    "# Given data\n",
    "total_population = 500\n",
    "num_smokers = 60\n",
    "\n",
    "# Calculate the sample proportion\n",
    "sample_proportion = num_smokers / total_population\n",
    "\n",
    "# Calculate the standard error using the Wilson score interval formula\n",
    "z = stats.norm.ppf(1 - (1 - 0.95) / 2)\n",
    "standard_error = np.sqrt((sample_proportion * (1 - sample_proportion)) / total_population + (z ** 2) / (4 * total_population ** 2))\n",
    "\n",
    "# Calculate the lower and upper bounds of the confidence interval\n",
    "lower_bound = sample_proportion - z * standard_error\n",
    "upper_bound = sample_proportion + z * standard_error\n",
    "\n",
    "# Ensure that the bounds are within [0, 1]\n",
    "lower_bound = max(0, lower_bound)\n",
    "upper_bound = min(1, upper_bound)\n",
    "\n",
    "# Convert to percentage\n",
    "lower_bound *= 100\n",
    "upper_bound *= 100\n",
    "\n",
    "print(f\"95% Confidence Interval: ({lower_bound:.2f}%, {upper_bound:.2f}%)\")\n"
   ]
  },
  {
   "cell_type": "code",
   "execution_count": 2,
   "id": "999d964c-0f96-44ba-8ca2-d1b174463bf1",
   "metadata": {},
   "outputs": [],
   "source": [
    "# Interpretation:\n",
    "# The 95% confidence interval represents the range within which we are 95% confident that the true proportion of individuals in the population who smoke lies. For example, if the calculated confidence interval is (10.50%, 15.60%), it means that we are 95% confident that the true proportion of smokers in the population lies between 10.50% and 15.60%."
   ]
  },
  {
   "cell_type": "code",
   "execution_count": 3,
   "id": "865c5bad-3521-4e46-84e9-85e63b3fa95a",
   "metadata": {},
   "outputs": [
    {
     "name": "stdout",
     "output_type": "stream",
     "text": [
      "90% Confidence Interval: (70.58639457251931, 79.41360542748069)\n"
     ]
    }
   ],
   "source": [
    "# Ques5\n",
    "import scipy.stats as stats\n",
    "\n",
    "# Given data\n",
    "sample_mean = 75\n",
    "sample_std_dev = 12\n",
    "confidence_level = 0.90\n",
    "sample_size = 20  # i assume the sample size 20\n",
    "\n",
    "# Calculate the standard error\n",
    "standard_error = sample_std_dev / (sample_size ** 0.5)\n",
    "\n",
    "# Calculate the 90% confidence interval\n",
    "confidence_interval = stats.norm.interval(confidence_level, loc=sample_mean, scale=standard_error)\n",
    "\n",
    "print(\"90% Confidence Interval:\", confidence_interval)\n"
   ]
  },
  {
   "cell_type": "code",
   "execution_count": 4,
   "id": "79ec5956-f755-4ac1-ad70-63b1d8ed2622",
   "metadata": {},
   "outputs": [
    {
     "data": {
      "image/png": "[encoded data removed]",
      "text/plain": [
       "<Figure size 800x500 with 1 Axes>"
      ]
     },
     "metadata": {},
     "output_type": "display_data"
    }
   ],
   "source": [
    "# Ques 6 \n",
    "import numpy as np\n",
    "import scipy.stats as stats\n",
    "import matplotlib.pyplot as plt\n",
    "\n",
    "# Degrees of freedom for the chi-square distribution\n",
    "df = 10\n",
    "\n",
    "# Create an array of x values to plot the chi-square distribution\n",
    "x = np.linspace(0, 30, 1000)\n",
    "\n",
    "# Calculate the probability density function (PDF) for the chi-square distribution\n",
    "pdf = stats.chi2.pdf(x, df)\n",
    "\n",
    "# Calculate the cumulative distribution function (CDF) for the chi-square distribution\n",
    "cdf = stats.chi2.cdf(x, df)\n",
    "\n",
    "# Plot the chi-square PDF\n",
    "plt.figure(figsize=(8, 5))\n",
    "plt.plot(x, pdf, label='PDF', color='blue')\n",
    "\n",
    "# Shade the area corresponding to a chi-square statistic of 15\n",
    "plt.fill_between(x, pdf, where=(x >= 15), color='lightblue', alpha=0.5, label='Chi-Square Statistic >= 15')\n",
    "\n",
    "# Plot settings\n",
    "plt.axvline(15, color='red', linestyle='dashed', label='Chi-Square Statistic = 15')\n",
    "plt.xlabel('Chi-Square Statistic')\n",
    "plt.ylabel('Probability Density Function (PDF)')\n",
    "plt.title(f'Chi-Square Distribution with {df} Degrees of Freedom')\n",
    "plt.legend()\n",
    "plt.grid(True)\n",
    "\n",
    "plt.show()\n"
   ]
  },
  {
   "cell_type": "code",
   "execution_count": 5,
   "id": "cc35ace3-653b-4c7b-88c5-8d1466835fb0",
   "metadata": {},
   "outputs": [
    {
     "name": "stdout",
     "output_type": "stream",
     "text": [
      "99% Confidence Interval: (47.92%, 56.08%)\n"
     ]
    }
   ],
   "source": [
    "# Ques 7\n",
    "import scipy.stats as stats\n",
    "import numpy as np\n",
    "\n",
    "# Given data\n",
    "total_sample = 1000\n",
    "num_preferred_coke = 520\n",
    "\n",
    "# Calculate the sample proportion\n",
    "sample_proportion = num_preferred_coke / total_sample\n",
    "\n",
    "# Calculate the standard error using the Wilson score interval formula\n",
    "z = stats.norm.ppf(1 - (1 - 0.99) / 2)\n",
    "standard_error = np.sqrt((sample_proportion * (1 - sample_proportion)) / total_sample + (z ** 2) / (4 * total_sample ** 2))\n",
    "\n",
    "# Calculate the lower and upper bounds of the confidence interval\n",
    "lower_bound = sample_proportion - z * standard_error\n",
    "upper_bound = sample_proportion + z * standard_error\n",
    "\n",
    "# Ensure that the bounds are within [0, 1]\n",
    "lower_bound = max(0, lower_bound)\n",
    "upper_bound = min(1, upper_bound)\n",
    "\n",
    "# Convert to percentage\n",
    "lower_bound *= 100\n",
    "upper_bound *= 100\n",
    "\n",
    "print(f\"99% Confidence Interval: ({lower_bound:.2f}%, {upper_bound:.2f}%)\")\n"
   ]
  },
  {
   "cell_type": "code",
   "execution_count": 6,
   "id": "cb6be929-9b2d-4448-8e5a-50262b6f1187",
   "metadata": {},
   "outputs": [],
   "source": [
    "# Interpretation:\n",
    "# The 99% confidence interval represents the range of values within which we are 99% confident that the true proportion of people in the population who prefer Coke lies. For example, if the calculated confidence interval is (48.31%, 55.69%), it means that we are 99% confident that the true proportion of people in the population who prefer Coke lies between 48.31% and 55.69%.\n",
    "\n",
    "#  the sample proportion is 520/1000 = 0.52 (52%), and the confidence interval reflects our uncertainty about the true proportion of the entire population who prefer Coke based on this sample. The wider the confidence interval, the more uncertainty there is in our estimate. A larger sample size would result in a narrower confidence interval and increased precision in estimating the true population proportion.\n",
    "\n",
    "\n",
    "\n",
    "\n"
   ]
  },
  {
   "cell_type": "code",
   "execution_count": 7,
   "id": "ab51bb83-161f-4424-8b45-f1acde92b317",
   "metadata": {},
   "outputs": [
    {
     "name": "stdout",
     "output_type": "stream",
     "text": [
      "Chi-Square Statistic: 1.0\n",
      "P-value: 0.31731050786291115\n",
      "The coin is fair (not significantly biased towards tails).\n"
     ]
    }
   ],
   "source": [
    "# Ques 8\n",
    "import scipy.stats as stats\n",
    "\n",
    "# Given data\n",
    "observed_tails = 45\n",
    "total_flips = 100\n",
    "\n",
    "# Calculate the expected number of tails for a fair coin\n",
    "expected_tails = total_flips / 2\n",
    "\n",
    "# Create the observed and expected frequencies lists\n",
    "observed_frequencies = [observed_tails, total_flips - observed_tails]\n",
    "expected_frequencies = [expected_tails, total_flips - expected_tails]\n",
    "\n",
    "# Perform the chi-square goodness of fit test\n",
    "chi2_stat, p_value = stats.chisquare(f_obs=observed_frequencies, f_exp=expected_frequencies)\n",
    "\n",
    "# Print the results\n",
    "print(\"Chi-Square Statistic:\", chi2_stat)\n",
    "print(\"P-value:\", p_value)\n",
    "\n",
    "# Check for significance at a significance level of 0.05\n",
    "alpha = 0.05\n",
    "if p_value < alpha:\n",
    "    print(\"The coin is biased towards tails.\")\n",
    "else:\n",
    "    print(\"The coin is fair (not significantly biased towards tails).\")\n",
    "\n",
    "    #The chi-square goodness of fit test compares the observed frequency of tails with the expected frequency (50 for a fair coin). If the p-value is less than the chosen significance level (0.05), then we reject the null hypothesis, suggesting that the coin is biased towards tails. Conversely, if the p-value is greater than or equal to the significance level, we fail to reject the null hypothesis, indicating that there is no significant evidence that the coin is biased towards tails, and we consider it fair."
   ]
  },
  {
   "cell_type": "code",
   "execution_count": 9,
   "id": "edb3ade8-0ddd-45cd-bd06-554a69129a59",
   "metadata": {},
   "outputs": [
    {
     "name": "stdout",
     "output_type": "stream",
     "text": [
      "Chi-Square Statistic: 32.013333333333335\n",
      "P-value: 1.5311802195839286e-08\n",
      "Degrees of Freedom: 1\n",
      "Expected Frequencies Table:\n",
      "[[75. 75.]\n",
      " [75. 75.]]\n",
      "there is a significaant association between a smoker and lung cancer diagnosis\n"
     ]
    }
   ],
   "source": [
    "import numpy as np\n",
    "import scipy.stats as stats\n",
    "\n",
    "# Given contingency table data\n",
    "contingency_table = np.array([[100, 50],\n",
    "                              [50, 100]])\n",
    "\n",
    "# Perform the chi-square test for independence\n",
    "chi2_stat, p_value, dof, expected = stats.chi2_contingency(contingency_table)\n",
    "\n",
    "# Print the results\n",
    "print(\"Chi-Square Statistic:\", chi2_stat)\n",
    "print(\"P-value:\", p_value)\n",
    "print(\"Degrees of Freedom:\", dof)\n",
    "print(\"Expected Frequencies Table:\")\n",
    "print(expected)\n",
    "\n",
    "# check the significance at a significance level of 0.05 \n",
    "# Check for significance at a significance level of 0.05\n",
    "alpha = 0.05\n",
    "if p_value < alpha:\n",
    "    print(\"there is a significaant association between a smoker and lung cancer diagnosis\")\n",
    "else:\n",
    "    print(\"there is a no significaant association between a smoker and lung cancer diagnosis\")\n",
    "\n"
   ]
  },
  {
   "cell_type": "code",
   "execution_count": 11,
   "id": "3ac4e68b-862c-4522-902a-35b5ad997ad7",
   "metadata": {},
   "outputs": [
    {
     "name": "stdout",
     "output_type": "stream",
     "text": [
      "Chi-Square Statistic: 13.393665158371041\n",
      "P-value: 0.0012348168997745918\n",
      "Degrees of Freedom: 2\n",
      "Expected Frequencies Table:\n",
      "[[212.5 162.5 125. ]\n",
      " [212.5 162.5 125. ]]\n",
      "there is a significaant association between chocolate preference and country of origin\n"
     ]
    }
   ],
   "source": [
    "import numpy as np\n",
    "import scipy.stats as stats\n",
    "\n",
    "# Given contingency table data\n",
    "contingency_table = np.array([[200, 150,150],\n",
    "                              [225, 175,100]])\n",
    "\n",
    "# Perform the chi-square test for independence\n",
    "chi2_stat, p_value, dof, expected = stats.chi2_contingency(contingency_table)\n",
    "\n",
    "# Print the results\n",
    "print(\"Chi-Square Statistic:\", chi2_stat)\n",
    "print(\"P-value:\", p_value)\n",
    "print(\"Degrees of Freedom:\", dof)\n",
    "print(\"Expected Frequencies Table:\")\n",
    "print(expected)\n",
    "\n",
    "# check the significance at a significance level of 0.05 \n",
    "# Check for significance at a significance level of 0.05\n",
    "alpha = 0.01\n",
    "if p_value < alpha:\n",
    "    print(\"there is a significaant association between chocolate preference and country of origin\")\n",
    "else:\n",
    "    print(\"there is a no significaant association between chocolate preference and country of origin\")\n",
    "\n"
   ]
  },
  {
   "cell_type": "code",
   "execution_count": null,
   "id": "54da56fe-5fe1-4b79-86fa-7db0a019cb29",
   "metadata": {},
   "outputs": [],
   "source": []
  }
 ],
 "metadata": {
  "kernelspec": {
   "display_name": "Python 3 (ipykernel)",
   "language": "python",
   "name": "python3"
  },
  "language_info": {
   "codemirror_mode": {
    "name": "ipython",
    "version": 3
   },
   "file_extension": ".py",
   "mimetype": "text/x-python",
   "name": "python",
   "nbconvert_exporter": "python",
   "pygments_lexer": "ipython3",
   "version": "3.10.8"
  }
 },
 "nbformat": 4,
 "nbformat_minor": 5
}
